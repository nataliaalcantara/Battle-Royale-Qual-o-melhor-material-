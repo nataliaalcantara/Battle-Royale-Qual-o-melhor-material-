{
 "cells": [
  {
   "cell_type": "markdown",
   "id": "e1deb603-31dc-4be0-88bf-fd7341da0438",
   "metadata": {},
   "source": [
    "# Algoritmos Genéticos\n",
    "\n",
    "### Battle Royale: Qual o melhor material?\n",
    "\n",
    "**Alunas:** Geovana Bettero, Natália Alcantara e Samira Oliveira"
   ]
  },
  {
   "cell_type": "markdown",
   "id": "5cf570b0-644a-419b-915f-198e33a733ad",
   "metadata": {},
   "source": [
    "Este notebook usa de estratégias de algoritmos genéticos para identificar materiais bidimensionais (2D). Para esses materiais buscamos características de maior band gap e menor calor de formação, para aferir tais características utilizamos dois modelos de previsão de floresta aleatória.\n",
    "Discorreremos sobre as ferramentas e estratégias de programação utilizadas ao longo do notebook."
   ]
  },
  {
   "cell_type": "markdown",
   "id": "c620a9fa-c124-444b-99c9-2ea27009a72b",
   "metadata": {},
   "source": [
    "---"
   ]
  },
  {
   "cell_type": "markdown",
   "id": "c4c36a25-108a-4c99-9ec7-8c0b2a7e1dc9",
   "metadata": {},
   "source": [
    "Importando as bibliotecas e as funções que estão no script funcoes_ag.py :"
   ]
  },
  {
   "cell_type": "code",
   "execution_count": 1,
   "id": "1cd10cfd-98fa-473d-8188-0f2233216d32",
   "metadata": {},
   "outputs": [],
   "source": [
    "from funcoes_ag import individuo_bgcf, populacao_bgcf, objetivo_pop_bgcf, mutacao_bgcf\n",
    "from funcoes_ag import cruzamento_ponto_duplo as cruzamento\n",
    "from funcoes_ag import selecao_roleta_max as selecao"
   ]
  },
  {
   "cell_type": "markdown",
   "id": "cdd07e33-d708-4516-adcd-eb245a3ff909",
   "metadata": {},
   "source": [
    "Definindo variáveis globais que serão utilizadas ao longo do código:"
   ]
  },
  {
   "cell_type": "code",
   "execution_count": 2,
   "id": "7c25b699-ce3b-4266-9630-52e804c9e102",
   "metadata": {},
   "outputs": [],
   "source": [
    "ELEMENTOS = ['H', 'Li', 'Be', 'B', 'C', 'N', 'O', 'F', 'Na', 'Mg', 'Al', 'Si','P', 'S', 'Cl', 'K', 'Ca', 'Sc', 'Ti', 'V', 'Cr', 'Mn', 'Fe', 'Co', 'Ni', 'Cu', 'Zn', 'Ga', 'Ge', 'As', 'Se', 'Br', 'Rb', 'Sr', 'Y', 'Zr', 'Nb', 'Mo', 'Ru', 'Rh', 'Pd', 'Ag', 'Cd', 'In', 'Sn', 'Sb', 'Te', 'I', 'Cs', 'Ba', 'Hf', 'Ta', 'W', 'Re', 'Os', 'Ir', 'Pt', 'Au', 'Hg', 'Tl', 'Pb', 'Bi']\n",
    "NUM_ELEMENTOS = len(ELEMENTOS)\n",
    "TAMANHO_POPULACAO = 10\n",
    "NUM_GERACOES = 5\n",
    "CHANCE_DE_CRUZAMENTO = 0.5\n",
    "CHANCE_DE_MUTACAO = 0.05\n",
    "TAMANHO_HALL_DA_FAMA = 1"
   ]
  },
  {
   "cell_type": "markdown",
   "id": "e97fb4f2-0389-43fc-ba2c-dc965b3b94a2",
   "metadata": {},
   "source": [
    "Criando a estrutura geral do algoritmo genético. Nele, as funções do script funcoes_ag.py são chamadas ao longo das gerações."
   ]
  },
  {
   "cell_type": "code",
   "execution_count": 3,
   "id": "d7e41aaf-c299-424c-b62b-236fa8dbcd1d",
   "metadata": {},
   "outputs": [],
   "source": [
    "# Criando a população inicial\n",
    "populacao = populacao_bgcf(TAMANHO_POPULACAO, NUM_ELEMENTOS)\n",
    "\n",
    "hall_da_fama = []\n",
    "\n",
    "# Iteração que traduz a passagem das gerações\n",
    "for n in range(NUM_GERACOES):\n",
    "    \n",
    "    # Seleção\n",
    "    # Calculamos a aptidão dos indivíduos (função objetivo_pop_bgcf) e os selecionamos para a próxima geração (função selecao) \n",
    "    fitness = objetivo_pop_bgcf(populacao)       \n",
    "    selecionados = selecao(populacao, fitness)\n",
    "    \n",
    "    # Cruzamento\n",
    "    # Atuação na variabilidade genética da população por cruzamento (função cruzamento)\n",
    "    proxima_geracao = []\n",
    "    for pai, mae in zip(selecionados[::2], selecionados[1::2]):\n",
    "        individuo1, individuo2 = cruzamento(pai, mae, CHANCE_DE_CRUZAMENTO)\n",
    "        proxima_geracao.append(individuo1)\n",
    "        proxima_geracao.append(individuo2)\n",
    "    \n",
    "    # Mutação\n",
    "    # Atuação na variabilidade genética da população por mutação (função mutacao_bgcf)\n",
    "    mutacao_bgcf(proxima_geracao, CHANCE_DE_MUTACAO)\n",
    "    \n",
    "    # Atualização do hall da fama\n",
    "    # Atualiza o hall da fama conforme os valores calculados pela função objetivo (função objetivo_pop_bgcf)\n",
    "    fitness = objetivo_pop_bgcf(proxima_geracao)\n",
    "    maior_fitness = max(fitness)\n",
    "    indice = fitness.index(maior_fitness)\n",
    "    hall_da_fama.append(proxima_geracao[indice])    \n",
    "    \n",
    "    # Encerramento\n",
    "    populacao = proxima_geracao"
   ]
  },
  {
   "cell_type": "markdown",
   "id": "e15357cc-f48d-45e4-8fe8-637df174ca7f",
   "metadata": {},
   "source": [
    "Mostrando ao leitor o indivíduo que apresentou o melhor fitness:"
   ]
  },
  {
   "cell_type": "code",
   "execution_count": 4,
   "id": "e00631ea-cd4a-4329-82d7-9c9dc00aad3e",
   "metadata": {},
   "outputs": [
    {
     "name": "stdout",
     "output_type": "stream",
     "text": [
      "[0, 0, 0, 0, 8, 0, 0, 0, 0, 0, 0, 0, 0, 0, 0, 0, 7, 0, 0, 0, 0, 0, 0, 0, 0, 0, 0, 0, 0, 0, 0, 0, 0, 0, 7, 0, 0, 0, 0, 0, 8, 0, 0, 0, 0, 0, 0, 2, 0, 0, 0, 2, 0, 0, 0, 0, 0, 0, 0, 0, 0, 0]\n"
     ]
    }
   ],
   "source": [
    "fitness = objetivo_pop_bgcf(hall_da_fama)\n",
    "maior_fitness = max(fitness)\n",
    "indice = fitness.index(maior_fitness)\n",
    "melhor_individuo_observado = hall_da_fama[indice]\n",
    "\n",
    "print(melhor_individuo_observado)"
   ]
  },
  {
   "cell_type": "markdown",
   "id": "d8e5ec60-1815-424e-89fa-43dbeb012aa0",
   "metadata": {},
   "source": [
    "Mostrando ao leitor o indivíduo que apresentou o melhor fitness em seu formato de fórmula química:"
   ]
  },
  {
   "cell_type": "code",
   "execution_count": 5,
   "id": "007a9388-0600-4d82-a3af-48e9a6cc8ed5",
   "metadata": {},
   "outputs": [
    {
     "name": "stdout",
     "output_type": "stream",
     "text": [
      "C8Ca7Y7Pd8I2Ta2\n"
     ]
    }
   ],
   "source": [
    "material = \"\"\n",
    "for valor, elemento in zip(melhor_individuo_observado, ELEMENTOS):\n",
    "    if valor > 0:\n",
    "        material += f\"{elemento}{valor}\"\n",
    "\n",
    "print(material)"
   ]
  },
  {
   "cell_type": "markdown",
   "id": "4f259cf0-8a53-4be0-bc7f-46d07af6527e",
   "metadata": {},
   "source": [
    "#### Aspectos interessantes \n",
    "Parte do cálculo do fitness é realizado por um modelo de árvore aleatória que prevê o quão bom o material 2D é bom para as características desejadas: band gap e calor de formação. Um rápido adendo: o band gap é mais valorizado em relação ao calor de formação, ação tomada a partir de entrevista com especialista.\n",
    "A mutação é feita com base na eletronegatividade dos elementos químicos, trazendo conceitos da física para melhorar a convergência. Outra ação tomada a partir de entrevista com especialista."
   ]
  },
  {
   "cell_type": "markdown",
   "id": "5255dffc-9cdd-448e-a33e-e6eb190e2900",
   "metadata": {},
   "source": [
    "#### Conclusão\n",
    "O algoritmo genético forneceu como resultado um material 2D que satisfaz os critérios de maximização e minimização estabelecidos de forma satisfatória."
   ]
  },
  {
   "cell_type": "markdown",
   "id": "9d81787d-b9c6-4f49-9785-dc0f75f906d4",
   "metadata": {},
   "source": [
    "# Referências:\n",
    "\n",
    "1. Banco de dados C2DB: https://cmr.fysik.dtu.dk/c2db/c2db.html#brief-description\n",
    "2. CASSAR, D. R. Floresta Aleatória (2023)\n",
    "3. CASSAR, D. R. Notebook algoritmo genético. (2024)\n",
    "4. CASSAR, D. R. Notebook caixas não-binárias. (2024)\n",
    "5. FQ.pt. (2024). Eletronegatividade. Disponível em: https://www.fq.pt/ligacao-quimica/eletronegatividade.\n",
    "6. ChatGPT para ajuda na resolução de bugs."
   ]
  },
  {
   "cell_type": "code",
   "execution_count": null,
   "id": "9bd0bb20-c086-41cf-8c70-77bfef375d03",
   "metadata": {},
   "outputs": [],
   "source": []
  }
 ],
 "metadata": {
  "kernelspec": {
   "display_name": "ilumpy",
   "language": "python",
   "name": "ilumpy"
  },
  "language_info": {
   "codemirror_mode": {
    "name": "ipython",
    "version": 3
   },
   "file_extension": ".py",
   "mimetype": "text/x-python",
   "name": "python",
   "nbconvert_exporter": "python",
   "pygments_lexer": "ipython3",
   "version": "3.10.8"
  }
 },
 "nbformat": 4,
 "nbformat_minor": 5
}
